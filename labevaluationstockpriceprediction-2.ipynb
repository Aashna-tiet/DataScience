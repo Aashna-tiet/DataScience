{
 "cells": [
  {
   "cell_type": "code",
   "execution_count": 1,
   "id": "9ce8507d",
   "metadata": {
    "_cell_guid": "b1076dfc-b9ad-4769-8c92-a6c4dae69d19",
    "_uuid": "8f2839f25d086af736a60e9eeb907d3b93b6e0e5",
    "execution": {
     "iopub.execute_input": "2022-03-16T09:54:49.504961Z",
     "iopub.status.busy": "2022-03-16T09:54:49.503338Z",
     "iopub.status.idle": "2022-03-16T09:54:49.515823Z",
     "shell.execute_reply": "2022-03-16T09:54:49.516308Z",
     "shell.execute_reply.started": "2022-03-16T09:32:50.239145Z"
    },
    "papermill": {
     "duration": 0.047852,
     "end_time": "2022-03-16T09:54:49.516534",
     "exception": false,
     "start_time": "2022-03-16T09:54:49.468682",
     "status": "completed"
    },
    "tags": []
   },
   "outputs": [
    {
     "name": "stdout",
     "output_type": "stream",
     "text": [
      "/kaggle/input/110-1-ntut-dl-app-hw3/IXIC.csv\n",
      "/kaggle/input/110-1-ntut-dl-app-hw3/nasdaq_predict.csv\n",
      "/kaggle/input/110-1-ntut-dl-app-hw3/qqq.us.txt\n"
     ]
    }
   ],
   "source": [
    "# This Python 3 environment comes with many helpful analytics libraries installed\n",
    "# It is defined by the kaggle/python Docker image: https://github.com/kaggle/docker-python\n",
    "# For example, here's several helpful packages to load\n",
    "\n",
    "import numpy as np # linear algebra\n",
    "import pandas as pd # data processing, CSV file I/O (e.g. pd.read_csv)\n",
    "\n",
    "# Input data files are available in the read-only \"../input/\" directory\n",
    "# For example, running this (by clicking run or pressing Shift+Enter) will list all files under the input directory\n",
    "\n",
    "import os\n",
    "for dirname, _, filenames in os.walk('/kaggle/input'):\n",
    "    for filename in filenames:\n",
    "        print(os.path.join(dirname, filename))\n",
    "\n",
    "# You can write up to 20GB to the current directory (/kaggle/working/) that gets preserved as output when you create a version using \"Save & Run All\" \n",
    "# You can also write temporary files to /kaggle/temp/, but they won't be saved outside of the current session"
   ]
  },
  {
   "cell_type": "markdown",
   "id": "f871b8e3",
   "metadata": {
    "papermill": {
     "duration": 0.02982,
     "end_time": "2022-03-16T09:54:49.579307",
     "exception": false,
     "start_time": "2022-03-16T09:54:49.549487",
     "status": "completed"
    },
    "tags": []
   },
   "source": [
    "In this project we have to predict the cosing price of NASDAQ index using any AI model"
   ]
  },
  {
   "cell_type": "code",
   "execution_count": 2,
   "id": "1e8e855e",
   "metadata": {
    "execution": {
     "iopub.execute_input": "2022-03-16T09:54:49.643808Z",
     "iopub.status.busy": "2022-03-16T09:54:49.643031Z",
     "iopub.status.idle": "2022-03-16T09:54:49.694136Z",
     "shell.execute_reply": "2022-03-16T09:54:49.693674Z",
     "shell.execute_reply.started": "2022-03-16T09:32:50.259173Z"
    },
    "papermill": {
     "duration": 0.084885,
     "end_time": "2022-03-16T09:54:49.694250",
     "exception": false,
     "start_time": "2022-03-16T09:54:49.609365",
     "status": "completed"
    },
    "tags": []
   },
   "outputs": [
    {
     "data": {
      "text/html": [
       "<div>\n",
       "<style scoped>\n",
       "    .dataframe tbody tr th:only-of-type {\n",
       "        vertical-align: middle;\n",
       "    }\n",
       "\n",
       "    .dataframe tbody tr th {\n",
       "        vertical-align: top;\n",
       "    }\n",
       "\n",
       "    .dataframe thead th {\n",
       "        text-align: right;\n",
       "    }\n",
       "</style>\n",
       "<table border=\"1\" class=\"dataframe\">\n",
       "  <thead>\n",
       "    <tr style=\"text-align: right;\">\n",
       "      <th></th>\n",
       "      <th>Date</th>\n",
       "      <th>Open</th>\n",
       "      <th>High</th>\n",
       "      <th>Low</th>\n",
       "      <th>Close</th>\n",
       "      <th>Adj Close</th>\n",
       "      <th>Volume</th>\n",
       "    </tr>\n",
       "  </thead>\n",
       "  <tbody>\n",
       "    <tr>\n",
       "      <th>0</th>\n",
       "      <td>1971-02-05</td>\n",
       "      <td>100.000000</td>\n",
       "      <td>100.000000</td>\n",
       "      <td>100.000000</td>\n",
       "      <td>100.000000</td>\n",
       "      <td>100.000000</td>\n",
       "      <td>0</td>\n",
       "    </tr>\n",
       "    <tr>\n",
       "      <th>1</th>\n",
       "      <td>1971-02-08</td>\n",
       "      <td>100.839996</td>\n",
       "      <td>100.839996</td>\n",
       "      <td>100.839996</td>\n",
       "      <td>100.839996</td>\n",
       "      <td>100.839996</td>\n",
       "      <td>0</td>\n",
       "    </tr>\n",
       "    <tr>\n",
       "      <th>2</th>\n",
       "      <td>1971-02-09</td>\n",
       "      <td>100.760002</td>\n",
       "      <td>100.760002</td>\n",
       "      <td>100.760002</td>\n",
       "      <td>100.760002</td>\n",
       "      <td>100.760002</td>\n",
       "      <td>0</td>\n",
       "    </tr>\n",
       "    <tr>\n",
       "      <th>3</th>\n",
       "      <td>1971-02-10</td>\n",
       "      <td>100.690002</td>\n",
       "      <td>100.690002</td>\n",
       "      <td>100.690002</td>\n",
       "      <td>100.690002</td>\n",
       "      <td>100.690002</td>\n",
       "      <td>0</td>\n",
       "    </tr>\n",
       "    <tr>\n",
       "      <th>4</th>\n",
       "      <td>1971-02-11</td>\n",
       "      <td>101.449997</td>\n",
       "      <td>101.449997</td>\n",
       "      <td>101.449997</td>\n",
       "      <td>101.449997</td>\n",
       "      <td>101.449997</td>\n",
       "      <td>0</td>\n",
       "    </tr>\n",
       "  </tbody>\n",
       "</table>\n",
       "</div>"
      ],
      "text/plain": [
       "         Date        Open        High         Low       Close   Adj Close  \\\n",
       "0  1971-02-05  100.000000  100.000000  100.000000  100.000000  100.000000   \n",
       "1  1971-02-08  100.839996  100.839996  100.839996  100.839996  100.839996   \n",
       "2  1971-02-09  100.760002  100.760002  100.760002  100.760002  100.760002   \n",
       "3  1971-02-10  100.690002  100.690002  100.690002  100.690002  100.690002   \n",
       "4  1971-02-11  101.449997  101.449997  101.449997  101.449997  101.449997   \n",
       "\n",
       "   Volume  \n",
       "0       0  \n",
       "1       0  \n",
       "2       0  \n",
       "3       0  \n",
       "4       0  "
      ]
     },
     "execution_count": 2,
     "metadata": {},
     "output_type": "execute_result"
    }
   ],
   "source": [
    "import pandas as pd\n",
    "df = pd.read_csv(\"../input/110-1-ntut-dl-app-hw3/IXIC.csv\" )\n",
    "df.head(5)"
   ]
  },
  {
   "cell_type": "markdown",
   "id": "f517ed52",
   "metadata": {
    "papermill": {
     "duration": 0.031099,
     "end_time": "2022-03-16T09:54:49.758930",
     "exception": false,
     "start_time": "2022-03-16T09:54:49.727831",
     "status": "completed"
    },
    "tags": []
   },
   "source": [
    "To use this data to predict closing price, we must preprocess it thoroughly in order to get most accurate results. We can do that in multiple ways like using scaler, encoding , normalizations etc but we have to carefully decide what to use as the input in this dataset is sensitive."
   ]
  },
  {
   "cell_type": "code",
   "execution_count": 3,
   "id": "12b4e38d",
   "metadata": {
    "execution": {
     "iopub.execute_input": "2022-03-16T09:54:49.829997Z",
     "iopub.status.busy": "2022-03-16T09:54:49.829229Z",
     "iopub.status.idle": "2022-03-16T09:54:50.119584Z",
     "shell.execute_reply": "2022-03-16T09:54:50.120264Z",
     "shell.execute_reply.started": "2022-03-16T09:32:50.295520Z"
    },
    "papermill": {
     "duration": 0.331099,
     "end_time": "2022-03-16T09:54:50.120424",
     "exception": false,
     "start_time": "2022-03-16T09:54:49.789325",
     "status": "completed"
    },
    "tags": []
   },
   "outputs": [
    {
     "data": {
      "text/plain": [
       "<function matplotlib.pyplot.show(close=None, block=None)>"
      ]
     },
     "execution_count": 3,
     "metadata": {},
     "output_type": "execute_result"
    },
    {
     "data": {
      "image/png": "[encoded data removed]",
      "text/plain": [
       "<Figure size 432x288 with 1 Axes>"
      ]
     },
     "metadata": {
      "needs_background": "light"
     },
     "output_type": "display_data"
    }
   ],
   "source": [
    "import matplotlib.pyplot as plt\n",
    "plt.plot(df[\"Close\"])\n",
    "plt.show"
   ]
  },
  {
   "cell_type": "markdown",
   "id": "bd7524e8",
   "metadata": {
    "papermill": {
     "duration": 0.031073,
     "end_time": "2022-03-16T09:54:50.183397",
     "exception": false,
     "start_time": "2022-03-16T09:54:50.152324",
     "status": "completed"
    },
    "tags": []
   },
   "source": [
    "The graph shows an exponential growth in closing price. Also as evident this dataset has continuous values. This is a non linear regression problem and we can solve it by using LSTM(long short term memory), a technique which is widely used in deep learning these days especially for a time series data."
   ]
  },
  {
   "cell_type": "markdown",
   "id": "8d55f278",
   "metadata": {
    "papermill": {
     "duration": 0.030767,
     "end_time": "2022-03-16T09:54:50.245073",
     "exception": false,
     "start_time": "2022-03-16T09:54:50.214306",
     "status": "completed"
    },
    "tags": []
   },
   "source": [
    "First we will check For missing values.\n",
    "for that we will use null function"
   ]
  },
  {
   "cell_type": "code",
   "execution_count": 4,
   "id": "4cdac31e",
   "metadata": {
    "execution": {
     "iopub.execute_input": "2022-03-16T09:54:50.312167Z",
     "iopub.status.busy": "2022-03-16T09:54:50.311334Z",
     "iopub.status.idle": "2022-03-16T09:54:50.314240Z",
     "shell.execute_reply": "2022-03-16T09:54:50.314818Z",
     "shell.execute_reply.started": "2022-03-16T09:32:50.690735Z"
    },
    "papermill": {
     "duration": 0.038401,
     "end_time": "2022-03-16T09:54:50.314982",
     "exception": false,
     "start_time": "2022-03-16T09:54:50.276581",
     "status": "completed"
    },
    "tags": []
   },
   "outputs": [
    {
     "name": "stdout",
     "output_type": "stream",
     "text": [
      "Dataframe Shape:  (12824, 7)\n"
     ]
    }
   ],
   "source": [
    "print(\"Dataframe Shape: \", df. shape)"
   ]
  },
  {
   "cell_type": "code",
   "execution_count": 5,
   "id": "02b15bd3",
   "metadata": {
    "execution": {
     "iopub.execute_input": "2022-03-16T09:54:50.387504Z",
     "iopub.status.busy": "2022-03-16T09:54:50.381075Z",
     "iopub.status.idle": "2022-03-16T09:54:50.389969Z",
     "shell.execute_reply": "2022-03-16T09:54:50.390406Z",
     "shell.execute_reply.started": "2022-03-16T09:32:50.699595Z"
    },
    "papermill": {
     "duration": 0.042995,
     "end_time": "2022-03-16T09:54:50.390528",
     "exception": false,
     "start_time": "2022-03-16T09:54:50.347533",
     "status": "completed"
    },
    "tags": []
   },
   "outputs": [
    {
     "data": {
      "text/plain": [
       "Date         False\n",
       "Open         False\n",
       "High         False\n",
       "Low          False\n",
       "Close        False\n",
       "Adj Close    False\n",
       "Volume       False\n",
       "dtype: bool"
      ]
     },
     "execution_count": 5,
     "metadata": {},
     "output_type": "execute_result"
    }
   ],
   "source": [
    "df.isnull().any()"
   ]
  },
  {
   "cell_type": "markdown",
   "id": "86c925a9",
   "metadata": {
    "papermill": {
     "duration": 0.032209,
     "end_time": "2022-03-16T09:54:50.454526",
     "exception": false,
     "start_time": "2022-03-16T09:54:50.422317",
     "status": "completed"
    },
    "tags": []
   },
   "source": [
    "As we can see that any column of df doesnot have any null value, we can continue with out preprocessing.\n",
    "Volume column seems to have just 0 as their value but we cant remoive it without checking so we will check if there are any other values in Volume.\n"
   ]
  },
  {
   "cell_type": "code",
   "execution_count": 6,
   "id": "f70c672d",
   "metadata": {
    "execution": {
     "iopub.execute_input": "2022-03-16T09:54:50.526026Z",
     "iopub.status.busy": "2022-03-16T09:54:50.525533Z",
     "iopub.status.idle": "2022-03-16T09:54:50.531014Z",
     "shell.execute_reply": "2022-03-16T09:54:50.531483Z",
     "shell.execute_reply.started": "2022-03-16T09:32:50.713684Z"
    },
    "papermill": {
     "duration": 0.044233,
     "end_time": "2022-03-16T09:54:50.531612",
     "exception": false,
     "start_time": "2022-03-16T09:54:50.487379",
     "status": "completed"
    },
    "tags": []
   },
   "outputs": [
    {
     "data": {
      "text/plain": [
       "array([         0,   62860000,   58860000, ..., 5095960000, 5091220000,\n",
       "       4600800000])"
      ]
     },
     "execution_count": 6,
     "metadata": {},
     "output_type": "execute_result"
    }
   ],
   "source": [
    "df['Volume'].unique()"
   ]
  },
  {
   "cell_type": "markdown",
   "id": "375c9cdb",
   "metadata": {
    "papermill": {
     "duration": 0.031684,
     "end_time": "2022-03-16T09:54:50.595333",
     "exception": false,
     "start_time": "2022-03-16T09:54:50.563649",
     "status": "completed"
    },
    "tags": []
   },
   "source": [
    "We also cant afford to have redundant data and as it seems adj close and close are similar. we will eliminate the column if it is the case.\n"
   ]
  },
  {
   "cell_type": "code",
   "execution_count": 7,
   "id": "f2b6de53",
   "metadata": {
    "execution": {
     "iopub.execute_input": "2022-03-16T09:54:50.663807Z",
     "iopub.status.busy": "2022-03-16T09:54:50.663008Z",
     "iopub.status.idle": "2022-03-16T09:54:50.666906Z",
     "shell.execute_reply": "2022-03-16T09:54:50.667306Z",
     "shell.execute_reply.started": "2022-03-16T09:32:50.725590Z"
    },
    "papermill": {
     "duration": 0.039795,
     "end_time": "2022-03-16T09:54:50.667429",
     "exception": false,
     "start_time": "2022-03-16T09:54:50.627634",
     "status": "completed"
    },
    "tags": []
   },
   "outputs": [
    {
     "data": {
      "text/plain": [
       "True"
      ]
     },
     "execution_count": 7,
     "metadata": {},
     "output_type": "execute_result"
    }
   ],
   "source": [
    "df['Close'].equals(df['Adj Close'])"
   ]
  },
  {
   "cell_type": "markdown",
   "id": "d529cf43",
   "metadata": {
    "papermill": {
     "duration": 0.036615,
     "end_time": "2022-03-16T09:54:50.736421",
     "exception": false,
     "start_time": "2022-03-16T09:54:50.699806",
     "status": "completed"
    },
    "tags": []
   },
   "source": [
    "As the closing price is independent of adj close and date we might as well remove those columns from the dataframe."
   ]
  },
  {
   "cell_type": "code",
   "execution_count": 8,
   "id": "a10bfa10",
   "metadata": {
    "execution": {
     "iopub.execute_input": "2022-03-16T09:54:50.868200Z",
     "iopub.status.busy": "2022-03-16T09:54:50.867320Z",
     "iopub.status.idle": "2022-03-16T09:54:50.884996Z",
     "shell.execute_reply": "2022-03-16T09:54:50.884308Z",
     "shell.execute_reply.started": "2022-03-16T09:32:50.734399Z"
    },
    "papermill": {
     "duration": 0.091163,
     "end_time": "2022-03-16T09:54:50.885200",
     "exception": false,
     "start_time": "2022-03-16T09:54:50.794037",
     "status": "completed"
    },
    "tags": []
   },
   "outputs": [
    {
     "data": {
      "text/html": [
       "<div>\n",
       "<style scoped>\n",
       "    .dataframe tbody tr th:only-of-type {\n",
       "        vertical-align: middle;\n",
       "    }\n",
       "\n",
       "    .dataframe tbody tr th {\n",
       "        vertical-align: top;\n",
       "    }\n",
       "\n",
       "    .dataframe thead th {\n",
       "        text-align: right;\n",
       "    }\n",
       "</style>\n",
       "<table border=\"1\" class=\"dataframe\">\n",
       "  <thead>\n",
       "    <tr style=\"text-align: right;\">\n",
       "      <th></th>\n",
       "      <th>Open</th>\n",
       "      <th>High</th>\n",
       "      <th>Low</th>\n",
       "      <th>Volume</th>\n",
       "      <th>Close</th>\n",
       "    </tr>\n",
       "  </thead>\n",
       "  <tbody>\n",
       "    <tr>\n",
       "      <th>0</th>\n",
       "      <td>100.000000</td>\n",
       "      <td>100.000000</td>\n",
       "      <td>100.000000</td>\n",
       "      <td>0</td>\n",
       "      <td>100.000000</td>\n",
       "    </tr>\n",
       "    <tr>\n",
       "      <th>1</th>\n",
       "      <td>100.839996</td>\n",
       "      <td>100.839996</td>\n",
       "      <td>100.839996</td>\n",
       "      <td>0</td>\n",
       "      <td>100.839996</td>\n",
       "    </tr>\n",
       "    <tr>\n",
       "      <th>2</th>\n",
       "      <td>100.760002</td>\n",
       "      <td>100.760002</td>\n",
       "      <td>100.760002</td>\n",
       "      <td>0</td>\n",
       "      <td>100.760002</td>\n",
       "    </tr>\n",
       "    <tr>\n",
       "      <th>3</th>\n",
       "      <td>100.690002</td>\n",
       "      <td>100.690002</td>\n",
       "      <td>100.690002</td>\n",
       "      <td>0</td>\n",
       "      <td>100.690002</td>\n",
       "    </tr>\n",
       "    <tr>\n",
       "      <th>4</th>\n",
       "      <td>101.449997</td>\n",
       "      <td>101.449997</td>\n",
       "      <td>101.449997</td>\n",
       "      <td>0</td>\n",
       "      <td>101.449997</td>\n",
       "    </tr>\n",
       "    <tr>\n",
       "      <th>5</th>\n",
       "      <td>102.050003</td>\n",
       "      <td>102.050003</td>\n",
       "      <td>102.050003</td>\n",
       "      <td>0</td>\n",
       "      <td>102.050003</td>\n",
       "    </tr>\n",
       "    <tr>\n",
       "      <th>6</th>\n",
       "      <td>102.190002</td>\n",
       "      <td>102.190002</td>\n",
       "      <td>102.190002</td>\n",
       "      <td>0</td>\n",
       "      <td>102.190002</td>\n",
       "    </tr>\n",
       "    <tr>\n",
       "      <th>7</th>\n",
       "      <td>101.739998</td>\n",
       "      <td>101.739998</td>\n",
       "      <td>101.739998</td>\n",
       "      <td>0</td>\n",
       "      <td>101.739998</td>\n",
       "    </tr>\n",
       "    <tr>\n",
       "      <th>8</th>\n",
       "      <td>101.419998</td>\n",
       "      <td>101.419998</td>\n",
       "      <td>101.419998</td>\n",
       "      <td>0</td>\n",
       "      <td>101.419998</td>\n",
       "    </tr>\n",
       "    <tr>\n",
       "      <th>9</th>\n",
       "      <td>100.699997</td>\n",
       "      <td>100.699997</td>\n",
       "      <td>100.699997</td>\n",
       "      <td>0</td>\n",
       "      <td>100.699997</td>\n",
       "    </tr>\n",
       "  </tbody>\n",
       "</table>\n",
       "</div>"
      ],
      "text/plain": [
       "         Open        High         Low  Volume       Close\n",
       "0  100.000000  100.000000  100.000000       0  100.000000\n",
       "1  100.839996  100.839996  100.839996       0  100.839996\n",
       "2  100.760002  100.760002  100.760002       0  100.760002\n",
       "3  100.690002  100.690002  100.690002       0  100.690002\n",
       "4  101.449997  101.449997  101.449997       0  101.449997\n",
       "5  102.050003  102.050003  102.050003       0  102.050003\n",
       "6  102.190002  102.190002  102.190002       0  102.190002\n",
       "7  101.739998  101.739998  101.739998       0  101.739998\n",
       "8  101.419998  101.419998  101.419998       0  101.419998\n",
       "9  100.699997  100.699997  100.699997       0  100.699997"
      ]
     },
     "execution_count": 8,
     "metadata": {},
     "output_type": "execute_result"
    }
   ],
   "source": [
    "data = pd.DataFrame({'Open':df['Open'],'High':df['High'],'Low':df['Low'],'Volume':df['Volume'],'Close':df['Close']})\n",
    "data.head(10)"
   ]
  },
  {
   "cell_type": "markdown",
   "id": "b762ab3b",
   "metadata": {
    "papermill": {
     "duration": 0.069459,
     "end_time": "2022-03-16T09:54:51.023543",
     "exception": false,
     "start_time": "2022-03-16T09:54:50.954084",
     "status": "completed"
    },
    "tags": []
   },
   "source": [
    "Now in order to use these values we must scale them and since we dont want all the values to be centered around mean we will use min max scaler.\n",
    "\n",
    "Min Max Scaler is present in sklearn.preprocessing library and we will import it from there."
   ]
  },
  {
   "cell_type": "code",
   "execution_count": 9,
   "id": "43761b89",
   "metadata": {
    "execution": {
     "iopub.execute_input": "2022-03-16T09:54:51.150277Z",
     "iopub.status.busy": "2022-03-16T09:54:51.149062Z",
     "iopub.status.idle": "2022-03-16T09:54:51.966986Z",
     "shell.execute_reply": "2022-03-16T09:54:51.966466Z",
     "shell.execute_reply.started": "2022-03-16T09:32:50.752220Z"
    },
    "papermill": {
     "duration": 0.88225,
     "end_time": "2022-03-16T09:54:51.967179",
     "exception": false,
     "start_time": "2022-03-16T09:54:51.084929",
     "status": "completed"
    },
    "tags": []
   },
   "outputs": [],
   "source": [
    "from sklearn.preprocessing import MinMaxScaler\n",
    "scaler = MinMaxScaler(feature_range=(0,1))\n",
    "training = scaler.fit_transform(data)"
   ]
  },
  {
   "cell_type": "code",
   "execution_count": 10,
   "id": "91f49d3b",
   "metadata": {
    "execution": {
     "iopub.execute_input": "2022-03-16T09:54:52.043319Z",
     "iopub.status.busy": "2022-03-16T09:54:52.042607Z",
     "iopub.status.idle": "2022-03-16T09:54:52.045281Z",
     "shell.execute_reply": "2022-03-16T09:54:52.045682Z",
     "shell.execute_reply.started": "2022-03-16T09:32:50.766225Z"
    },
    "papermill": {
     "duration": 0.041301,
     "end_time": "2022-03-16T09:54:52.045807",
     "exception": false,
     "start_time": "2022-03-16T09:54:52.004506",
     "status": "completed"
    },
    "tags": []
   },
   "outputs": [
    {
     "data": {
      "text/plain": [
       "(12824, 5)"
      ]
     },
     "execution_count": 10,
     "metadata": {},
     "output_type": "execute_result"
    }
   ],
   "source": [
    "training.shape"
   ]
  },
  {
   "cell_type": "code",
   "execution_count": 11,
   "id": "66a4c5fd",
   "metadata": {
    "execution": {
     "iopub.execute_input": "2022-03-16T09:54:52.116252Z",
     "iopub.status.busy": "2022-03-16T09:54:52.115713Z",
     "iopub.status.idle": "2022-03-16T09:54:52.121243Z",
     "shell.execute_reply": "2022-03-16T09:54:52.120750Z",
     "shell.execute_reply.started": "2022-03-16T09:32:50.774046Z"
    },
    "papermill": {
     "duration": 0.042427,
     "end_time": "2022-03-16T09:54:52.121353",
     "exception": false,
     "start_time": "2022-03-16T09:54:52.078926",
     "status": "completed"
    },
    "tags": []
   },
   "outputs": [
    {
     "data": {
      "text/plain": [
       "numpy.ndarray"
      ]
     },
     "execution_count": 11,
     "metadata": {},
     "output_type": "execute_result"
    }
   ],
   "source": [
    "type(training)"
   ]
  },
  {
   "cell_type": "markdown",
   "id": "6acb8fe4",
   "metadata": {
    "papermill": {
     "duration": 0.03369,
     "end_time": "2022-03-16T09:54:52.188522",
     "exception": false,
     "start_time": "2022-03-16T09:54:52.154832",
     "status": "completed"
    },
    "tags": []
   },
   "source": [
    "Now to split the data, while incorporating the time steps in between and we will have to use loops since, the \"training\" data is now in numpy.ndarray form and for it to work on lstm we need x_train and x_test to be in form of 3 dimensional array. I am here incorporating a timestamp of 60."
   ]
  },
  {
   "cell_type": "markdown",
   "id": "a230ea53",
   "metadata": {
    "papermill": {
     "duration": 0.033278,
     "end_time": "2022-03-16T09:54:52.255599",
     "exception": false,
     "start_time": "2022-03-16T09:54:52.222321",
     "status": "completed"
    },
    "tags": []
   },
   "source": [
    "I did a 9:1 split in training:test"
   ]
  },
  {
   "cell_type": "code",
   "execution_count": 12,
   "id": "44f5f3b5",
   "metadata": {
    "execution": {
     "iopub.execute_input": "2022-03-16T09:54:52.340700Z",
     "iopub.status.busy": "2022-03-16T09:54:52.339777Z",
     "iopub.status.idle": "2022-03-16T09:54:52.364276Z",
     "shell.execute_reply": "2022-03-16T09:54:52.363776Z",
     "shell.execute_reply.started": "2022-03-16T09:32:50.783085Z"
    },
    "papermill": {
     "duration": 0.074965,
     "end_time": "2022-03-16T09:54:52.364404",
     "exception": false,
     "start_time": "2022-03-16T09:54:52.289439",
     "status": "completed"
    },
    "tags": []
   },
   "outputs": [],
   "source": [
    "X_train = []\n",
    "Y_train = []\n",
    "X_test =[]\n",
    "Y_test =[]\n",
    "for i in range(60,10310) :\n",
    "    \n",
    "    X_train.append(training[i-60:i,:])\n",
    "    Y_train.append (training[i, 0])\n",
    "\n",
    "X_train= np.array(X_train)\n",
    "Y_train = np.array(Y_train)\n",
    "\n",
    "\n",
    "for i in range(10310,12824):\n",
    "    X_test.append(training[i-60:i,:])\n",
    "    Y_test.append(training[i, 0])\n",
    "X_test = np.array(X_test)\n",
    "Y_test = np.array(Y_test)"
   ]
  },
  {
   "cell_type": "code",
   "execution_count": 13,
   "id": "58526744",
   "metadata": {
    "execution": {
     "iopub.execute_input": "2022-03-16T09:54:52.436387Z",
     "iopub.status.busy": "2022-03-16T09:54:52.435703Z",
     "iopub.status.idle": "2022-03-16T09:54:52.438350Z",
     "shell.execute_reply": "2022-03-16T09:54:52.438745Z",
     "shell.execute_reply.started": "2022-03-16T09:32:50.829139Z"
    },
    "papermill": {
     "duration": 0.040728,
     "end_time": "2022-03-16T09:54:52.438866",
     "exception": false,
     "start_time": "2022-03-16T09:54:52.398138",
     "status": "completed"
    },
    "tags": []
   },
   "outputs": [
    {
     "data": {
      "text/plain": [
       "(10250, 60, 5)"
      ]
     },
     "execution_count": 13,
     "metadata": {},
     "output_type": "execute_result"
    }
   ],
   "source": [
    "X_train.shape"
   ]
  },
  {
   "cell_type": "code",
   "execution_count": 14,
   "id": "6773f3d3",
   "metadata": {
    "execution": {
     "iopub.execute_input": "2022-03-16T09:54:52.511597Z",
     "iopub.status.busy": "2022-03-16T09:54:52.510986Z",
     "iopub.status.idle": "2022-03-16T09:54:52.513523Z",
     "shell.execute_reply": "2022-03-16T09:54:52.513926Z",
     "shell.execute_reply.started": "2022-03-16T09:32:50.837141Z"
    },
    "papermill": {
     "duration": 0.041176,
     "end_time": "2022-03-16T09:54:52.514043",
     "exception": false,
     "start_time": "2022-03-16T09:54:52.472867",
     "status": "completed"
    },
    "tags": []
   },
   "outputs": [
    {
     "data": {
      "text/plain": [
       "(10250,)"
      ]
     },
     "execution_count": 14,
     "metadata": {},
     "output_type": "execute_result"
    }
   ],
   "source": [
    "Y_train.shape"
   ]
  },
  {
   "cell_type": "code",
   "execution_count": 15,
   "id": "a4461b89",
   "metadata": {
    "execution": {
     "iopub.execute_input": "2022-03-16T09:54:52.588476Z",
     "iopub.status.busy": "2022-03-16T09:54:52.587871Z",
     "iopub.status.idle": "2022-03-16T09:54:52.590430Z",
     "shell.execute_reply": "2022-03-16T09:54:52.590838Z",
     "shell.execute_reply.started": "2022-03-16T09:32:50.846676Z"
    },
    "papermill": {
     "duration": 0.04243,
     "end_time": "2022-03-16T09:54:52.590953",
     "exception": false,
     "start_time": "2022-03-16T09:54:52.548523",
     "status": "completed"
    },
    "tags": []
   },
   "outputs": [
    {
     "data": {
      "text/plain": [
       "(2514, 60, 5)"
      ]
     },
     "execution_count": 15,
     "metadata": {},
     "output_type": "execute_result"
    }
   ],
   "source": [
    "X_test.shape"
   ]
  },
  {
   "cell_type": "code",
   "execution_count": 16,
   "id": "f5b1f1a6",
   "metadata": {
    "execution": {
     "iopub.execute_input": "2022-03-16T09:54:52.665892Z",
     "iopub.status.busy": "2022-03-16T09:54:52.665300Z",
     "iopub.status.idle": "2022-03-16T09:54:52.667913Z",
     "shell.execute_reply": "2022-03-16T09:54:52.668339Z",
     "shell.execute_reply.started": "2022-03-16T09:32:50.856917Z"
    },
    "papermill": {
     "duration": 0.042196,
     "end_time": "2022-03-16T09:54:52.668460",
     "exception": false,
     "start_time": "2022-03-16T09:54:52.626264",
     "status": "completed"
    },
    "tags": []
   },
   "outputs": [
    {
     "data": {
      "text/plain": [
       "(2514,)"
      ]
     },
     "execution_count": 16,
     "metadata": {},
     "output_type": "execute_result"
    }
   ],
   "source": [
    "Y_test.shape"
   ]
  },
  {
   "cell_type": "markdown",
   "id": "598d12e8",
   "metadata": {
    "papermill": {
     "duration": 0.034777,
     "end_time": "2022-03-16T09:54:52.738036",
     "exception": false,
     "start_time": "2022-03-16T09:54:52.703259",
     "status": "completed"
    },
    "tags": []
   },
   "source": [
    "Now to use LSTM model we need to import the important libraries from keras, for the same. So we imported Sequential, LSTM, Dense."
   ]
  },
  {
   "cell_type": "markdown",
   "id": "ec8ac598",
   "metadata": {
    "papermill": {
     "duration": 0.035489,
     "end_time": "2022-03-16T09:54:52.808413",
     "exception": false,
     "start_time": "2022-03-16T09:54:52.772924",
     "status": "completed"
    },
    "tags": []
   },
   "source": [
    "Sequential is usually used in predicting any thing that has sequence of inputs over a period of time like in stock prediction.\n",
    "\n",
    "\n",
    "\n"
   ]
  },
  {
   "cell_type": "markdown",
   "id": "e8e3143e",
   "metadata": {
    "papermill": {
     "duration": 0.035755,
     "end_time": "2022-03-16T09:54:52.879640",
     "exception": false,
     "start_time": "2022-03-16T09:54:52.843885",
     "status": "completed"
    },
    "tags": []
   },
   "source": [
    "LSTM is a variation in Recurrent Neural Network made just for predictions, classifications and processing, inputs that are time series of data and in this problem we have Stock Market Prediction which is a time series data."
   ]
  },
  {
   "cell_type": "markdown",
   "id": "d8cf83a1",
   "metadata": {
    "papermill": {
     "duration": 0.03559,
     "end_time": "2022-03-16T09:54:52.951373",
     "exception": false,
     "start_time": "2022-03-16T09:54:52.915783",
     "status": "completed"
    },
    "tags": []
   },
   "source": [
    "Dense is a layer that is fully connected with neurons of the other layers and it is an integral part of DL."
   ]
  },
  {
   "cell_type": "markdown",
   "id": "7720cadc",
   "metadata": {
    "papermill": {
     "duration": 0.038432,
     "end_time": "2022-03-16T09:54:53.030103",
     "exception": false,
     "start_time": "2022-03-16T09:54:52.991671",
     "status": "completed"
    },
    "tags": []
   },
   "source": [
    "We can use Dropout in order to relieve some randome neurons while working. It is sort of a regularization technique where a given part of neurons are ignored during training.\n",
    "But here we only have one layer so it is a shallow neural network, there is no point of introducing dropuout here."
   ]
  },
  {
   "cell_type": "code",
   "execution_count": 17,
   "id": "b9c2e1f3",
   "metadata": {
    "execution": {
     "iopub.execute_input": "2022-03-16T09:54:53.105941Z",
     "iopub.status.busy": "2022-03-16T09:54:53.105309Z",
     "iopub.status.idle": "2022-03-16T09:54:57.552384Z",
     "shell.execute_reply": "2022-03-16T09:54:57.551868Z",
     "shell.execute_reply.started": "2022-03-16T09:32:50.867065Z"
    },
    "papermill": {
     "duration": 4.486661,
     "end_time": "2022-03-16T09:54:57.552527",
     "exception": false,
     "start_time": "2022-03-16T09:54:53.065866",
     "status": "completed"
    },
    "tags": []
   },
   "outputs": [],
   "source": [
    "from keras.models import Sequential\n",
    "from keras.layers import LSTM\n",
    "from keras.layers import Dense"
   ]
  },
  {
   "cell_type": "markdown",
   "id": "50269df4",
   "metadata": {
    "papermill": {
     "duration": 0.034662,
     "end_time": "2022-03-16T09:54:57.622390",
     "exception": false,
     "start_time": "2022-03-16T09:54:57.587728",
     "status": "completed"
    },
    "tags": []
   },
   "source": [
    "For this model, 32 units of neurons are used, for a train matrix of dimension (m,n,o) we provide input shape with (n,o) since we checked it on previous step i added it here directly."
   ]
  },
  {
   "cell_type": "markdown",
   "id": "1d3355e3",
   "metadata": {
    "papermill": {
     "duration": 0.036997,
     "end_time": "2022-03-16T09:54:57.694972",
     "exception": false,
     "start_time": "2022-03-16T09:54:57.657975",
     "status": "completed"
    },
    "tags": []
   },
   "source": [
    "In this model i used activation function of reLU, as it gives linear output above zero but still is a non-linear function to avoid gradient descent vanishing problem. We set those return_sequences to False which decides whether or not we want to return the last output in the output sequence, or the full sequence."
   ]
  },
  {
   "cell_type": "markdown",
   "id": "e68bd53b",
   "metadata": {
    "papermill": {
     "duration": 0.03521,
     "end_time": "2022-03-16T09:54:57.765420",
     "exception": false,
     "start_time": "2022-03-16T09:54:57.730210",
     "status": "completed"
    },
    "tags": []
   },
   "source": [
    "We set the units of LSTM to be 32 so the dimensionality of the outer space of that layer is 32. We added a Dense Layer with units = 1, so that the outut state of that layer is 1."
   ]
  },
  {
   "cell_type": "markdown",
   "id": "ded37f01",
   "metadata": {
    "papermill": {
     "duration": 0.03547,
     "end_time": "2022-03-16T09:54:57.836291",
     "exception": false,
     "start_time": "2022-03-16T09:54:57.800821",
     "status": "completed"
    },
    "tags": []
   },
   "source": [
    "Atlast, we compiled the model with adam optimizers, and calculated the loss with 'mean_squared_error' metrics."
   ]
  },
  {
   "cell_type": "code",
   "execution_count": 18,
   "id": "e99d69de",
   "metadata": {
    "execution": {
     "iopub.execute_input": "2022-03-16T09:54:57.911531Z",
     "iopub.status.busy": "2022-03-16T09:54:57.909942Z",
     "iopub.status.idle": "2022-03-16T09:55:00.547989Z",
     "shell.execute_reply": "2022-03-16T09:55:00.548659Z",
     "shell.execute_reply.started": "2022-03-16T09:32:50.875343Z"
    },
    "papermill": {
     "duration": 2.677293,
     "end_time": "2022-03-16T09:55:00.548861",
     "exception": false,
     "start_time": "2022-03-16T09:54:57.871568",
     "status": "completed"
    },
    "tags": []
   },
   "outputs": [
    {
     "name": "stderr",
     "output_type": "stream",
     "text": [
      "2022-03-16 09:54:57.985341: I tensorflow/stream_executor/cuda/cuda_gpu_executor.cc:937] successful NUMA node read from SysFS had negative value (-1), but there must be at least one NUMA node, so returning NUMA node zero\n",
      "2022-03-16 09:54:58.092657: I tensorflow/stream_executor/cuda/cuda_gpu_executor.cc:937] successful NUMA node read from SysFS had negative value (-1), but there must be at least one NUMA node, so returning NUMA node zero\n",
      "2022-03-16 09:54:58.093472: I tensorflow/stream_executor/cuda/cuda_gpu_executor.cc:937] successful NUMA node read from SysFS had negative value (-1), but there must be at least one NUMA node, so returning NUMA node zero\n",
      "2022-03-16 09:54:58.094630: I tensorflow/core/platform/cpu_feature_guard.cc:142] This TensorFlow binary is optimized with oneAPI Deep Neural Network Library (oneDNN) to use the following CPU instructions in performance-critical operations:  AVX2 AVX512F FMA\n",
      "To enable them in other operations, rebuild TensorFlow with the appropriate compiler flags.\n",
      "2022-03-16 09:54:58.095666: I tensorflow/stream_executor/cuda/cuda_gpu_executor.cc:937] successful NUMA node read from SysFS had negative value (-1), but there must be at least one NUMA node, so returning NUMA node zero\n",
      "2022-03-16 09:54:58.096377: I tensorflow/stream_executor/cuda/cuda_gpu_executor.cc:937] successful NUMA node read from SysFS had negative value (-1), but there must be at least one NUMA node, so returning NUMA node zero\n",
      "2022-03-16 09:54:58.096996: I tensorflow/stream_executor/cuda/cuda_gpu_executor.cc:937] successful NUMA node read from SysFS had negative value (-1), but there must be at least one NUMA node, so returning NUMA node zero\n",
      "2022-03-16 09:55:00.108166: I tensorflow/stream_executor/cuda/cuda_gpu_executor.cc:937] successful NUMA node read from SysFS had negative value (-1), but there must be at least one NUMA node, so returning NUMA node zero\n",
      "2022-03-16 09:55:00.108926: I tensorflow/stream_executor/cuda/cuda_gpu_executor.cc:937] successful NUMA node read from SysFS had negative value (-1), but there must be at least one NUMA node, so returning NUMA node zero\n",
      "2022-03-16 09:55:00.109604: I tensorflow/stream_executor/cuda/cuda_gpu_executor.cc:937] successful NUMA node read from SysFS had negative value (-1), but there must be at least one NUMA node, so returning NUMA node zero\n",
      "2022-03-16 09:55:00.110201: I tensorflow/core/common_runtime/gpu/gpu_device.cc:1510] Created device /job:localhost/replica:0/task:0/device:GPU:0 with 15403 MB memory:  -> device: 0, name: Tesla P100-PCIE-16GB, pci bus id: 0000:00:04.0, compute capability: 6.0\n"
     ]
    }
   ],
   "source": [
    "lstm_model = Sequential()\n",
    "lstm_model.add(LSTM(32, input_shape=( 60, 5 ), activation='relu', return_sequences=False))\n",
    "lstm_model.add(Dense(1))\n",
    "lstm_model.compile(loss='mean_squared_error', optimizer='adam')"
   ]
  },
  {
   "cell_type": "markdown",
   "id": "c0b5450a",
   "metadata": {
    "papermill": {
     "duration": 0.036179,
     "end_time": "2022-03-16T09:55:00.621821",
     "exception": false,
     "start_time": "2022-03-16T09:55:00.585642",
     "status": "completed"
    },
    "tags": []
   },
   "source": [
    "We then fit that model onto the training data with 30 epochs and batch size 32."
   ]
  },
  {
   "cell_type": "code",
   "execution_count": 19,
   "id": "3764712b",
   "metadata": {
    "execution": {
     "iopub.execute_input": "2022-03-16T09:55:00.697734Z",
     "iopub.status.busy": "2022-03-16T09:55:00.696966Z",
     "iopub.status.idle": "2022-03-16T10:11:04.641765Z",
     "shell.execute_reply": "2022-03-16T10:11:04.642181Z",
     "shell.execute_reply.started": "2022-03-16T09:32:50.954399Z"
    },
    "papermill": {
     "duration": 963.984748,
     "end_time": "2022-03-16T10:11:04.642346",
     "exception": false,
     "start_time": "2022-03-16T09:55:00.657598",
     "status": "completed"
    },
    "tags": []
   },
   "outputs": [
    {
     "name": "stderr",
     "output_type": "stream",
     "text": [
      "2022-03-16 09:55:00.773745: I tensorflow/compiler/mlir/mlir_graph_optimization_pass.cc:185] None of the MLIR Optimization Passes are enabled (registered 2)\n"
     ]
    },
    {
     "name": "stdout",
     "output_type": "stream",
     "text": [
      "Epoch 1/30\n",
      "321/321 [==============================] - 32s 95ms/step - loss: 2.0726e-04\n",
      "Epoch 2/30\n",
      "321/321 [==============================] - 30s 94ms/step - loss: 7.9257e-06\n",
      "Epoch 3/30\n",
      "321/321 [==============================] - 31s 96ms/step - loss: 7.4357e-06\n",
      "Epoch 4/30\n",
      "321/321 [==============================] - 32s 99ms/step - loss: 6.7509e-06\n",
      "Epoch 5/30\n",
      "321/321 [==============================] - 31s 97ms/step - loss: 5.6225e-06\n",
      "Epoch 6/30\n",
      "321/321 [==============================] - 31s 97ms/step - loss: 5.3560e-06\n",
      "Epoch 7/30\n",
      "321/321 [==============================] - 31s 98ms/step - loss: 4.9159e-06\n",
      "Epoch 8/30\n",
      "321/321 [==============================] - 30s 94ms/step - loss: 4.3208e-06\n",
      "Epoch 9/30\n",
      "321/321 [==============================] - 32s 99ms/step - loss: 4.7433e-06\n",
      "Epoch 10/30\n",
      "321/321 [==============================] - 31s 98ms/step - loss: 3.9207e-06\n",
      "Epoch 11/30\n",
      "321/321 [==============================] - 32s 101ms/step - loss: 3.8468e-06\n",
      "Epoch 12/30\n",
      "321/321 [==============================] - 32s 98ms/step - loss: 3.8300e-06\n",
      "Epoch 13/30\n",
      "321/321 [==============================] - 32s 99ms/step - loss: 3.3955e-06\n",
      "Epoch 14/30\n",
      "321/321 [==============================] - 32s 100ms/step - loss: 3.3046e-06\n",
      "Epoch 15/30\n",
      "321/321 [==============================] - 32s 100ms/step - loss: 3.1999e-06\n",
      "Epoch 16/30\n",
      "321/321 [==============================] - 32s 101ms/step - loss: 3.0607e-06\n",
      "Epoch 17/30\n",
      "321/321 [==============================] - 33s 101ms/step - loss: 2.8811e-06\n",
      "Epoch 18/30\n",
      "321/321 [==============================] - 33s 102ms/step - loss: 3.0579e-06\n",
      "Epoch 19/30\n",
      "321/321 [==============================] - 33s 102ms/step - loss: 2.6114e-06\n",
      "Epoch 20/30\n",
      "321/321 [==============================] - 33s 103ms/step - loss: 2.7110e-06\n",
      "Epoch 21/30\n",
      "321/321 [==============================] - 33s 104ms/step - loss: 2.3117e-06\n",
      "Epoch 22/30\n",
      "321/321 [==============================] - 32s 100ms/step - loss: 2.1789e-06\n",
      "Epoch 23/30\n",
      "321/321 [==============================] - 31s 97ms/step - loss: 2.3922e-06\n",
      "Epoch 24/30\n",
      "321/321 [==============================] - 34s 105ms/step - loss: 2.2150e-06\n",
      "Epoch 25/30\n",
      "321/321 [==============================] - 34s 105ms/step - loss: 2.2873e-06\n",
      "Epoch 26/30\n",
      "321/321 [==============================] - 35s 108ms/step - loss: 2.1357e-06\n",
      "Epoch 27/30\n",
      "321/321 [==============================] - 31s 97ms/step - loss: 1.8992e-06\n",
      "Epoch 28/30\n",
      "321/321 [==============================] - 34s 106ms/step - loss: 1.9212e-06\n",
      "Epoch 29/30\n",
      "321/321 [==============================] - 30s 93ms/step - loss: 1.8893e-06\n",
      "Epoch 30/30\n",
      "321/321 [==============================] - 34s 108ms/step - loss: 1.7594e-06\n"
     ]
    },
    {
     "data": {
      "text/plain": [
       "<keras.callbacks.History at 0x7f8edb043090>"
      ]
     },
     "execution_count": 19,
     "metadata": {},
     "output_type": "execute_result"
    }
   ],
   "source": [
    "lstm_model.fit(X_train, Y_train, epochs=30, batch_size=32)"
   ]
  },
  {
   "cell_type": "markdown",
   "id": "73d1ffe0",
   "metadata": {
    "papermill": {
     "duration": 3.293821,
     "end_time": "2022-03-16T10:11:10.877035",
     "exception": false,
     "start_time": "2022-03-16T10:11:07.583214",
     "status": "completed"
    },
    "tags": []
   },
   "source": [
    "Now predicting the stock price using predict function."
   ]
  },
  {
   "cell_type": "code",
   "execution_count": 20,
   "id": "4365e227",
   "metadata": {
    "execution": {
     "iopub.execute_input": "2022-03-16T10:11:16.878152Z",
     "iopub.status.busy": "2022-03-16T10:11:16.876979Z",
     "iopub.status.idle": "2022-03-16T10:11:17.633402Z",
     "shell.execute_reply": "2022-03-16T10:11:17.632261Z",
     "shell.execute_reply.started": "2022-03-16T09:48:14.861572Z"
    },
    "papermill": {
     "duration": 3.794982,
     "end_time": "2022-03-16T10:11:17.633543",
     "exception": false,
     "start_time": "2022-03-16T10:11:13.838561",
     "status": "completed"
    },
    "tags": []
   },
   "outputs": [],
   "source": [
    "predicted_price = lstm_model.predict(X_test)"
   ]
  },
  {
   "cell_type": "code",
   "execution_count": 21,
   "id": "2a848a93",
   "metadata": {
    "execution": {
     "iopub.execute_input": "2022-03-16T10:11:24.310891Z",
     "iopub.status.busy": "2022-03-16T10:11:24.308310Z",
     "iopub.status.idle": "2022-03-16T10:11:24.459620Z",
     "shell.execute_reply": "2022-03-16T10:11:24.459172Z",
     "shell.execute_reply.started": "2022-03-16T09:48:15.598616Z"
    },
    "papermill": {
     "duration": 3.841081,
     "end_time": "2022-03-16T10:11:24.459740",
     "exception": false,
     "start_time": "2022-03-16T10:11:20.618659",
     "status": "completed"
    },
    "tags": []
   },
   "outputs": [
    {
     "data": {
      "image/png": "[encoded data removed]",
      "text/plain": [
       "<Figure size 432x288 with 1 Axes>"
      ]
     },
     "metadata": {
      "needs_background": "light"
     },
     "output_type": "display_data"
    }
   ],
   "source": [
    "plt.plot(predicted_price,'green', Y_test)\n",
    "plt.show()"
   ]
  },
  {
   "cell_type": "markdown",
   "id": "e1219589",
   "metadata": {
    "papermill": {
     "duration": 2.987669,
     "end_time": "2022-03-16T10:11:30.445593",
     "exception": false,
     "start_time": "2022-03-16T10:11:27.457924",
     "status": "completed"
    },
    "tags": []
   },
   "source": [
    "Now that we have predicted output and y_test we can compare them by using r2_score metrics."
   ]
  },
  {
   "cell_type": "code",
   "execution_count": 22,
   "id": "33450ba3",
   "metadata": {
    "execution": {
     "iopub.execute_input": "2022-03-16T10:11:36.649474Z",
     "iopub.status.busy": "2022-03-16T10:11:36.648907Z",
     "iopub.status.idle": "2022-03-16T10:11:36.678223Z",
     "shell.execute_reply": "2022-03-16T10:11:36.678641Z",
     "shell.execute_reply.started": "2022-03-16T09:53:04.587502Z"
    },
    "papermill": {
     "duration": 2.991861,
     "end_time": "2022-03-16T10:11:36.678779",
     "exception": false,
     "start_time": "2022-03-16T10:11:33.686918",
     "status": "completed"
    },
    "tags": []
   },
   "outputs": [
    {
     "data": {
      "text/plain": [
       "0.9995800534679303"
      ]
     },
     "execution_count": 22,
     "metadata": {},
     "output_type": "execute_result"
    }
   ],
   "source": [
    "from sklearn.metrics import r2_score\n",
    "\n",
    "r2 = r2_score(Y_test,predicted_price)\n",
    "r2"
   ]
  },
  {
   "cell_type": "code",
   "execution_count": 23,
   "id": "f7810643",
   "metadata": {
    "execution": {
     "iopub.execute_input": "2022-03-16T10:11:42.771564Z",
     "iopub.status.busy": "2022-03-16T10:11:42.770768Z",
     "iopub.status.idle": "2022-03-16T10:11:42.773587Z",
     "shell.execute_reply": "2022-03-16T10:11:42.774038Z",
     "shell.execute_reply.started": "2022-03-16T09:53:06.500417Z"
    },
    "papermill": {
     "duration": 3.058524,
     "end_time": "2022-03-16T10:11:42.774211",
     "exception": false,
     "start_time": "2022-03-16T10:11:39.715687",
     "status": "completed"
    },
    "tags": []
   },
   "outputs": [
    {
     "name": "stdout",
     "output_type": "stream",
     "text": [
      "Since the r2_score is 0.9995800534679303,the accuracy is pretty decent and as evident from graph the model is quite efficient!\n"
     ]
    }
   ],
   "source": [
    "print(f'Since the r2_score is {r2},the accuracy is pretty decent and as evident from graph the model is quite efficient!')"
   ]
  }
 ],
 "metadata": {
  "kernelspec": {
   "display_name": "Python 3",
   "language": "python",
   "name": "python3"
  },
  "language_info": {
   "codemirror_mode": {
    "name": "ipython",
    "version": 3
   },
   "file_extension": ".py",
   "mimetype": "text/x-python",
   "name": "python",
   "nbconvert_exporter": "python",
   "pygments_lexer": "ipython3",
   "version": "3.7.12"
  },
  "papermill": {
   "default_parameters": {},
   "duration": 1028.12737,
   "end_time": "2022-03-16T10:11:49.406191",
   "environment_variables": {},
   "exception": null,
   "input_path": "__notebook__.ipynb",
   "output_path": "__notebook__.ipynb",
   "parameters": {},
   "start_time": "2022-03-16T09:54:41.278821",
   "version": "2.3.3"
  }
 },
 "nbformat": 4,
 "nbformat_minor": 5
}
